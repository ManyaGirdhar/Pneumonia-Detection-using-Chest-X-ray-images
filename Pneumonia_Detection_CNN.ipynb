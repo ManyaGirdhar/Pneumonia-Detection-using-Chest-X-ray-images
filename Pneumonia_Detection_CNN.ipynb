{
  "nbformat": 4,
  "nbformat_minor": 0,
  "metadata": {
    "colab": {
      "provenance": []
    },
    "kernelspec": {
      "name": "python3",
      "display_name": "Python 3"
    }
  },
  "cells": [
    {
      "cell_type": "code",
      "source": [
        "from google.colab import drive\n",
        "drive.mount('/content/drive')"
      ],
      "metadata": {
        "colab": {
          "base_uri": "https://localhost:8080/"
        },
        "id": "u4Lml7oApmId",
        "outputId": "29c832f1-392c-4297-c00c-a5b8c386a5d0"
      },
      "execution_count": null,
      "outputs": [
        {
          "output_type": "stream",
          "name": "stdout",
          "text": [
            "Drive already mounted at /content/drive; to attempt to forcibly remount, call drive.mount(\"/content/drive\", force_remount=True).\n"
          ]
        }
      ]
    },
    {
      "cell_type": "markdown",
      "metadata": {
        "id": "3DR-eO17geWu"
      },
      "source": [
        "# Convolutional Neural Network"
      ]
    },
    {
      "cell_type": "markdown",
      "metadata": {
        "id": "EMefrVPCg-60"
      },
      "source": [
        "### Importing the libraries"
      ]
    },
    {
      "cell_type": "code",
      "metadata": {
        "id": "sCV30xyVhFbE"
      },
      "source": [
        "import tensorflow as tf\n",
        "from keras.preprocessing.image import ImageDataGenerator"
      ],
      "execution_count": null,
      "outputs": []
    },
    {
      "cell_type": "code",
      "metadata": {
        "id": "FIleuCAjoFD8",
        "colab": {
          "base_uri": "https://localhost:8080/",
          "height": 36
        },
        "outputId": "8fef80a6-0cd5-48ad-babd-1f931a304b4e"
      },
      "source": [
        "tf.__version__"
      ],
      "execution_count": null,
      "outputs": [
        {
          "output_type": "execute_result",
          "data": {
            "text/plain": [
              "'2.15.0'"
            ],
            "application/vnd.google.colaboratory.intrinsic+json": {
              "type": "string"
            }
          },
          "metadata": {},
          "execution_count": 4
        }
      ]
    },
    {
      "cell_type": "markdown",
      "metadata": {
        "id": "oxQxCBWyoGPE"
      },
      "source": [
        "## Part 1 - Data Preprocessing"
      ]
    },
    {
      "cell_type": "markdown",
      "metadata": {
        "id": "MvE-heJNo3GG"
      },
      "source": [
        "### Preprocessing the Training set"
      ]
    },
    {
      "cell_type": "code",
      "metadata": {
        "id": "0koUcJMJpEBD",
        "colab": {
          "base_uri": "https://localhost:8080/"
        },
        "outputId": "2f0c76ca-9d9f-46f1-a38f-fd144e76b662"
      },
      "source": [
        "train_datagen = ImageDataGenerator(rescale = 1./255,\n",
        "                                   shear_range = 0.2,\n",
        "                                   zoom_range = 0.2,\n",
        "                                   horizontal_flip = True)\n",
        "training_set = train_datagen.flow_from_directory('/content/drive/MyDrive/chest_xray/train',\n",
        "                                                 target_size = (64, 64),\n",
        "                                                 batch_size = 32,\n",
        "                                                 class_mode = 'binary')"
      ],
      "execution_count": null,
      "outputs": [
        {
          "output_type": "stream",
          "name": "stdout",
          "text": [
            "Found 2380 images belonging to 2 classes.\n"
          ]
        }
      ]
    },
    {
      "cell_type": "markdown",
      "metadata": {
        "id": "mrCMmGw9pHys"
      },
      "source": [
        "### Preprocessing the Test set"
      ]
    },
    {
      "cell_type": "code",
      "metadata": {
        "id": "SH4WzfOhpKc3",
        "colab": {
          "base_uri": "https://localhost:8080/"
        },
        "outputId": "7890233c-f8ff-4fb1-fa7a-98930999a776"
      },
      "source": [
        "test_datagen = ImageDataGenerator(rescale = 1./255)\n",
        "test_set = test_datagen.flow_from_directory('/content/drive/MyDrive/chest_xray/test',\n",
        "                                            target_size = (64, 64),\n",
        "                                            batch_size = 32,\n",
        "                                            class_mode = 'binary')"
      ],
      "execution_count": null,
      "outputs": [
        {
          "output_type": "stream",
          "name": "stdout",
          "text": [
            "Found 624 images belonging to 2 classes.\n"
          ]
        }
      ]
    },
    {
      "cell_type": "markdown",
      "metadata": {
        "id": "af8O4l90gk7B"
      },
      "source": [
        "## Part 2 - Building the CNN"
      ]
    },
    {
      "cell_type": "markdown",
      "metadata": {
        "id": "ces1gXY2lmoX"
      },
      "source": [
        "### Initialising the CNN"
      ]
    },
    {
      "cell_type": "code",
      "metadata": {
        "id": "SAUt4UMPlhLS"
      },
      "source": [
        "cnn = tf.keras.models.Sequential()"
      ],
      "execution_count": null,
      "outputs": []
    },
    {
      "cell_type": "markdown",
      "metadata": {
        "id": "u5YJj_XMl5LF"
      },
      "source": [
        "### Step 1 - Convolution"
      ]
    },
    {
      "cell_type": "code",
      "metadata": {
        "id": "XPzPrMckl-hV"
      },
      "source": [
        "cnn.add(tf.keras.layers.Conv2D(filters=32, kernel_size=3, activation='relu', input_shape=[64, 64, 3]))"
      ],
      "execution_count": null,
      "outputs": []
    },
    {
      "cell_type": "markdown",
      "metadata": {
        "id": "tf87FpvxmNOJ"
      },
      "source": [
        "### Step 2 - Pooling"
      ]
    },
    {
      "cell_type": "code",
      "metadata": {
        "id": "ncpqPl69mOac"
      },
      "source": [
        "cnn.add(tf.keras.layers.MaxPool2D(pool_size=2, strides=2))"
      ],
      "execution_count": null,
      "outputs": []
    },
    {
      "cell_type": "markdown",
      "metadata": {
        "id": "xaTOgD8rm4mU"
      },
      "source": [
        "### Adding a second convolutional layer"
      ]
    },
    {
      "cell_type": "code",
      "metadata": {
        "id": "i_-FZjn_m8gk"
      },
      "source": [
        "cnn.add(tf.keras.layers.Conv2D(filters=32, kernel_size=3, activation='relu'))\n",
        "cnn.add(tf.keras.layers.MaxPool2D(pool_size=2, strides=2))"
      ],
      "execution_count": null,
      "outputs": []
    },
    {
      "cell_type": "markdown",
      "metadata": {
        "id": "tmiEuvTunKfk"
      },
      "source": [
        "### Step 3 - Flattening"
      ]
    },
    {
      "cell_type": "code",
      "metadata": {
        "id": "6AZeOGCvnNZn"
      },
      "source": [
        "cnn.add(tf.keras.layers.Flatten())"
      ],
      "execution_count": null,
      "outputs": []
    },
    {
      "cell_type": "markdown",
      "metadata": {
        "id": "dAoSECOm203v"
      },
      "source": [
        "### Step 4 - Full Connection"
      ]
    },
    {
      "cell_type": "code",
      "metadata": {
        "id": "8GtmUlLd26Nq"
      },
      "source": [
        "cnn.add(tf.keras.layers.Dense(units=128, activation='relu'))"
      ],
      "execution_count": null,
      "outputs": []
    },
    {
      "cell_type": "markdown",
      "metadata": {
        "id": "yTldFvbX28Na"
      },
      "source": [
        "### Step 5 - Output Layer"
      ]
    },
    {
      "cell_type": "code",
      "metadata": {
        "id": "1p_Zj1Mc3Ko_"
      },
      "source": [
        "cnn.add(tf.keras.layers.Dense(units=1, activation='sigmoid'))"
      ],
      "execution_count": null,
      "outputs": []
    },
    {
      "cell_type": "markdown",
      "metadata": {
        "id": "D6XkI90snSDl"
      },
      "source": [
        "## Part 3 - Training the CNN"
      ]
    },
    {
      "cell_type": "markdown",
      "metadata": {
        "id": "vfrFQACEnc6i"
      },
      "source": [
        "### Compiling the CNN"
      ]
    },
    {
      "cell_type": "code",
      "metadata": {
        "id": "NALksrNQpUlJ"
      },
      "source": [
        "cnn.compile(optimizer = 'adam', loss = 'binary_crossentropy', metrics = ['accuracy'])"
      ],
      "execution_count": null,
      "outputs": []
    },
    {
      "cell_type": "markdown",
      "metadata": {
        "id": "ehS-v3MIpX2h"
      },
      "source": [
        "### Training the CNN on the Training set and evaluating it on the Test set"
      ]
    },
    {
      "cell_type": "code",
      "metadata": {
        "id": "XUj1W4PJptta",
        "colab": {
          "base_uri": "https://localhost:8080/"
        },
        "outputId": "0e2a6d90-4b22-4145-ce46-322b2205148e"
      },
      "source": [
        "cnn.fit(x = training_set, validation_data = test_set, epochs = 25)"
      ],
      "execution_count": null,
      "outputs": [
        {
          "output_type": "stream",
          "name": "stdout",
          "text": [
            "Epoch 1/25\n",
            "75/75 [==============================] - 441s 6s/step - loss: 0.5338 - accuracy: 0.7193 - val_loss: 0.4202 - val_accuracy: 0.8173\n",
            "Epoch 2/25\n",
            "75/75 [==============================] - 65s 868ms/step - loss: 0.3009 - accuracy: 0.8769 - val_loss: 0.2965 - val_accuracy: 0.8846\n",
            "Epoch 3/25\n",
            "75/75 [==============================] - 69s 917ms/step - loss: 0.2681 - accuracy: 0.8983 - val_loss: 0.2968 - val_accuracy: 0.8846\n",
            "Epoch 4/25\n",
            "75/75 [==============================] - 71s 946ms/step - loss: 0.2684 - accuracy: 0.8916 - val_loss: 0.2950 - val_accuracy: 0.8798\n",
            "Epoch 5/25\n",
            "75/75 [==============================] - 68s 904ms/step - loss: 0.2341 - accuracy: 0.9059 - val_loss: 0.3166 - val_accuracy: 0.8782\n",
            "Epoch 6/25\n",
            "75/75 [==============================] - 68s 902ms/step - loss: 0.2341 - accuracy: 0.9097 - val_loss: 0.3235 - val_accuracy: 0.8702\n",
            "Epoch 7/25\n",
            "75/75 [==============================] - 69s 912ms/step - loss: 0.2328 - accuracy: 0.9147 - val_loss: 0.3026 - val_accuracy: 0.8830\n",
            "Epoch 8/25\n",
            "75/75 [==============================] - 68s 902ms/step - loss: 0.2298 - accuracy: 0.9063 - val_loss: 0.4582 - val_accuracy: 0.8029\n",
            "Epoch 9/25\n",
            "75/75 [==============================] - 68s 901ms/step - loss: 0.2060 - accuracy: 0.9185 - val_loss: 0.3410 - val_accuracy: 0.8750\n",
            "Epoch 10/25\n",
            "75/75 [==============================] - 66s 876ms/step - loss: 0.2096 - accuracy: 0.9218 - val_loss: 0.2768 - val_accuracy: 0.8878\n",
            "Epoch 11/25\n",
            "75/75 [==============================] - 67s 893ms/step - loss: 0.2033 - accuracy: 0.9197 - val_loss: 0.2699 - val_accuracy: 0.8958\n",
            "Epoch 12/25\n",
            "75/75 [==============================] - 72s 959ms/step - loss: 0.2054 - accuracy: 0.9181 - val_loss: 0.2918 - val_accuracy: 0.8958\n",
            "Epoch 13/25\n",
            "75/75 [==============================] - 66s 877ms/step - loss: 0.1919 - accuracy: 0.9256 - val_loss: 0.3021 - val_accuracy: 0.8974\n",
            "Epoch 14/25\n",
            "75/75 [==============================] - 69s 919ms/step - loss: 0.1793 - accuracy: 0.9324 - val_loss: 0.2768 - val_accuracy: 0.8958\n",
            "Epoch 15/25\n",
            "75/75 [==============================] - 64s 861ms/step - loss: 0.1755 - accuracy: 0.9303 - val_loss: 0.4224 - val_accuracy: 0.8590\n",
            "Epoch 16/25\n",
            "75/75 [==============================] - 70s 924ms/step - loss: 0.1727 - accuracy: 0.9366 - val_loss: 0.3142 - val_accuracy: 0.9006\n",
            "Epoch 17/25\n",
            "75/75 [==============================] - 67s 892ms/step - loss: 0.1532 - accuracy: 0.9441 - val_loss: 0.3282 - val_accuracy: 0.9038\n",
            "Epoch 18/25\n",
            "75/75 [==============================] - 69s 920ms/step - loss: 0.1896 - accuracy: 0.9256 - val_loss: 0.3091 - val_accuracy: 0.8974\n",
            "Epoch 19/25\n",
            "75/75 [==============================] - 68s 902ms/step - loss: 0.1597 - accuracy: 0.9370 - val_loss: 0.3068 - val_accuracy: 0.9022\n",
            "Epoch 20/25\n",
            "75/75 [==============================] - 84s 1s/step - loss: 0.1595 - accuracy: 0.9349 - val_loss: 0.3098 - val_accuracy: 0.8862\n",
            "Epoch 21/25\n",
            "75/75 [==============================] - 68s 912ms/step - loss: 0.1600 - accuracy: 0.9353 - val_loss: 0.2895 - val_accuracy: 0.9038\n",
            "Epoch 22/25\n",
            "75/75 [==============================] - 68s 897ms/step - loss: 0.1437 - accuracy: 0.9420 - val_loss: 0.3809 - val_accuracy: 0.8782\n",
            "Epoch 23/25\n",
            "75/75 [==============================] - 67s 881ms/step - loss: 0.1743 - accuracy: 0.9265 - val_loss: 0.3600 - val_accuracy: 0.8734\n",
            "Epoch 24/25\n",
            "75/75 [==============================] - 67s 901ms/step - loss: 0.1588 - accuracy: 0.9403 - val_loss: 0.3698 - val_accuracy: 0.8766\n",
            "Epoch 25/25\n",
            "75/75 [==============================] - 69s 918ms/step - loss: 0.1498 - accuracy: 0.9370 - val_loss: 0.2811 - val_accuracy: 0.9087\n"
          ]
        },
        {
          "output_type": "execute_result",
          "data": {
            "text/plain": [
              "<keras.src.callbacks.History at 0x7b92145d8d00>"
            ]
          },
          "metadata": {},
          "execution_count": 15
        }
      ]
    },
    {
      "cell_type": "markdown",
      "metadata": {
        "id": "U3PZasO0006Z"
      },
      "source": [
        "## Part 4 - Making a single prediction"
      ]
    },
    {
      "cell_type": "code",
      "metadata": {
        "id": "gsSiWEJY1BPB",
        "colab": {
          "base_uri": "https://localhost:8080/"
        },
        "outputId": "748d89e6-b75e-4688-b74b-56de8c625f0e"
      },
      "source": [
        "import numpy as np\n",
        "from keras.preprocessing import image\n",
        "test_image = image.load_img('/content/drive/MyDrive/chest_xray/test/PNEUMONIA/person101_bacteria_484.jpeg', target_size = (64, 64))\n",
        "test_image = image.img_to_array(test_image)\n",
        "test_image = np.expand_dims(test_image, axis = 0)\n",
        "result = cnn.predict(test_image)\n",
        "training_set.class_indices\n",
        "if result[0][0] == 1:\n",
        "  prediction = 'pneumonia'\n",
        "else:\n",
        "  prediction = 'normal'\n"
      ],
      "execution_count": null,
      "outputs": [
        {
          "output_type": "stream",
          "name": "stdout",
          "text": [
            "1/1 [==============================] - 0s 50ms/step\n"
          ]
        }
      ]
    },
    {
      "cell_type": "code",
      "metadata": {
        "id": "ED9KB3I54c1i",
        "colab": {
          "base_uri": "https://localhost:8080/"
        },
        "outputId": "8e2438b3-ee32-4442-dd33-5cba93311bff"
      },
      "source": [
        "print(prediction)"
      ],
      "execution_count": null,
      "outputs": [
        {
          "output_type": "stream",
          "name": "stdout",
          "text": [
            "pneumonia\n"
          ]
        }
      ]
    },
    {
      "cell_type": "code",
      "source": [
        "import pickle"
      ],
      "metadata": {
        "id": "7vYXnj2Da67m"
      },
      "execution_count": null,
      "outputs": []
    },
    {
      "cell_type": "code",
      "source": [
        "# save the model to disk\n",
        "filename = 'finalized_model.pkl'\n",
        "pickle.dump(cnn, open(filename, 'wb'))"
      ],
      "metadata": {
        "id": "xg452M92Z6OE"
      },
      "execution_count": null,
      "outputs": []
    },
    {
      "cell_type": "code",
      "source": [
        "cnn.save('/content/drive/MyDrive/pneumonia_detection/pneumonia.hdf5')"
      ],
      "metadata": {
        "colab": {
          "base_uri": "https://localhost:8080/"
        },
        "id": "kLVr93Zza9Ne",
        "outputId": "3563cea8-db10-49be-ad5e-3d7fb4328dd9"
      },
      "execution_count": null,
      "outputs": [
        {
          "output_type": "stream",
          "name": "stderr",
          "text": [
            "/usr/local/lib/python3.10/dist-packages/keras/src/engine/training.py:3103: UserWarning: You are saving your model as an HDF5 file via `model.save()`. This file format is considered legacy. We recommend using instead the native Keras format, e.g. `model.save('my_model.keras')`.\n",
            "  saving_api.save_model(\n"
          ]
        }
      ]
    }
  ]
}